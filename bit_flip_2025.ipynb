{
 "cells": [
  {
   "cell_type": "code",
   "execution_count": null,
   "metadata": {},
   "outputs": [],
   "source": [
    "import sys\n",
    "import os\n",
    "import numpy as np \n",
    "import matplotlib.pyplot as plt\n",
    "\n",
    "\n",
    "src_path = os.path.expanduser('~/source/')\n",
    "sys.path.append(src_path)\n"
   ]
  },
  {
   "cell_type": "code",
   "execution_count": null,
   "metadata": {},
   "outputs": [],
   "source": [
    "#greg tools\n",
    "sys.path.append(src_path+'simtools')\n",
    "sys.path.append(src_path+'simtools/infoenginessims')\n",
    "\n",
    "from integrators import rkdeterm_eulerstoch\n",
    "from dynamics import langevin_underdamped\n",
    "import simulation\n",
    "from simprocedures import basic_simprocedures as sp\n",
    "from simprocedures import running_measurements as rp\n",
    "from simprocedures import trajectory_measurements as tp\n",
    "#from infoenginessims.api import *"
   ]
  },
  {
   "cell_type": "code",
   "execution_count": 1,
   "metadata": {},
   "outputs": [],
   "source": [
    "#kyle tools\n",
    "from sus.protocol_designer import Potential, Protocol, System, Compound_Protocol\n",
    "from informational_states.measure import MeasurementDevice, Measurement, TrajectoryEnsemble\n",
    "import kyle_tools as kt"
   ]
  },
  {
   "cell_type": "code",
   "execution_count": null,
   "metadata": {},
   "outputs": [],
   "source": [
    "# SQUID tools\n",
    "from FQ_sympy_functions import DeviceParams\n",
    "from bit_flip_sweep import set_systems, check_device"
   ]
  },
  {
   "cell_type": "code",
   "execution_count": null,
   "metadata": {},
   "outputs": [],
   "source": [
    "plt.rcParams['font.size'] = 16\n",
    "legendsize = 6\n",
    "plt.rcParams['mathtext.fontset'] = 'stix'\n",
    "plt.rcParams['font.family'] = 'STIXGeneral'\n",
    "\n",
    "rc_dict = {'axes.labelsize':'large', 'ytick.right':False,'legend.loc':'upper right', 'legend.fontsize':'xx-small', 'figure.autolayout':True, 'figure.figsize': (12,9)}\n",
    "plt.rc('grid', linestyle=\"-\", color='black')\n",
    "\n",
    "for key,value in rc_dict.items():\n",
    "    plt.rcParams[key] = value"
   ]
  },
  {
   "cell_type": "markdown",
   "metadata": {},
   "source": [
    "# These are the physical parameters that characterize the system"
   ]
  },
  {
   "cell_type": "code",
   "execution_count": null,
   "metadata": {},
   "outputs": [],
   "source": [
    "# set up the device here, for example:\n",
    "Dev= DeviceParams()\n",
    "print('before change:', Dev.I_minus, Dev.R, Dev.C)\n",
    "\n",
    "Dev.change_vals({'I_minus':0, 'R':371})\n",
    "# NOTE: ive made R really small so we can see the damping more quickly.\n",
    "\n",
    "print('after change:',Dev.I_minus, Dev.R, Dev.C)\n",
    "check_device(Dev)\n",
    "\n",
    "\n",
    "#some alternate parameter sets\n",
    "\n",
    "#params 1:\n",
    "#kT_prime = .11\n",
    "#C = 10*400E-12\n",
    "#R = 371\n",
    "#L = 10E-10\n",
    "\n",
    "#params 2:\n",
    "#kT_prime = 6.9E-24/1.38E-23\n",
    "#C = 530E-15\n",
    "#R = 2.1\n",
    "#L = 140E-12\n"
   ]
  },
  {
   "cell_type": "code",
   "execution_count": null,
   "metadata": {},
   "outputs": [],
   "source": [
    "#params Dev:\n",
    "kT = Dev.get_temp()*1.38E-23\n",
    "C = Dev.C\n",
    "R = Dev.R\n",
    "L = Dev.L\n",
    "\n",
    "#these are some relevant dimensionful scales: alpha is the natural units for the JJ fluxes and U_0 is the natural scale for the potential\n",
    "alpha = Dev.alpha\n",
    "\n",
    "#IMPORTANT: all energies are measured in units of U_0\n",
    "U_0 = alpha**2 / L\n",
    "h = 6.63E-34\n",
    "\n",
    "#these are important dimensionless simulation quantities, accounting for \n",
    "#m being measured in units of C, lambda in units of 1/R, energy in units of U_0\n",
    "m_prime = np.array((1, 1/4))\n",
    "lambda_prime = np.array((2, 1/2))\n",
    "kT_prime = kT/U_0\n",
    "\n",
    "print('Some Common Circuit Parameters')\n",
    "Q = R*np.sqrt(C/L)\n",
    "print( 'Q:{:.2f}'.format(Q))\n",
    "frq = 1/(2*np.pi*np.sqrt(L*C))\n",
    "print('f_LC in GHz:{:.2f}'.format(frq/1E9))\n",
    "print('ring down in ns:{:.2f}'.format(1E9*Q/frq))\n",
    "print('ring down in sqrt(LC):{:.2f}'.format( (Q/frq)/np.sqrt(L*C)))\n",
    "j_c = alpha/L\n",
    "print('critical current density in mu_A:{:.2f}'.format(1E6*j_c))\n",
    "print('Energy Scale')\n",
    "print('U_0/kT:{:.2f}'.format(1/kT_prime))\n",
    "print('kT/(h*f)',kT_prime*U_0 / (h*frq))\n",
    "\n",
    "\n"
   ]
  },
  {
   "cell_type": "markdown",
   "metadata": {},
   "source": [
    "# Here we define the $\\varphi_{xdc}$ protocol"
   ]
  },
  {
   "cell_type": "code",
   "execution_count": null,
   "metadata": {},
   "outputs": [],
   "source": [
    "protocol_duration = 5.43\n",
    "initial_run_length = 15\n",
    "\n",
    "# d_store comp is how far phi_{xdc} goes on either side of the bifurcation point\n",
    "store, comp = set_systems(Dev, comp_tau=protocol_duration, d_store_comp=[.2,.2])\n",
    "#store and comp are two systms, each holding a protocol with external fluxes fixed at the storage and computational potentials\n",
    "\n",
    "# now, we make the comp protocol turn off the computational protocol at the end\n",
    "# this way, it goes from computational potential to storage potential\n",
    "comp.protocol.params[:,1] = store.protocol.params[:,1]\n",
    "\n",
    "# this means it will turn off suddenly at the end time, like a step function\n",
    "comp.protocol.interpolation = 'end_step'\n",
    "\n",
    "# this creates a copy of tyhe computational protocol, but with the order reversed\n",
    "# basically, this one will go fro the storage potential to the computational potential\n",
    "initialization = comp.protocol.copy()\n",
    "initialization.reverse()\n",
    "\n",
    "#now, we normalize the initialization protocol and stretch the time so its as long as we want\n",
    "initialization.normalize()\n",
    "initialization.time_stretch(initial_run_length)\n",
    "\n",
    "#time shift the computational protocol so it starts at the end of the initialization protocol\n",
    "comp.protocol.time_shift(initial_run_length)\n",
    "\n",
    "# now, we overwrite the computational protocol with a Compound_Protocol\n",
    "# this will do each protocol in the list in order\n",
    "comp.protocol = Compound_Protocol([initialization, comp.protocol])\n",
    "\n"
   ]
  },
  {
   "cell_type": "code",
   "execution_count": null,
   "metadata": {},
   "outputs": [],
   "source": []
  },
  {
   "cell_type": "code",
   "execution_count": null,
   "metadata": {},
   "outputs": [],
   "source": [
    "# plots the protocol parameters over time, time is in units of sqrt(LC)\n",
    "fig, ax = comp.protocol.show_params(which=[1,2], param_labels=['$\\\\varphi_{x}$', '$\\\\varphi_{xdc}$'], show=False);\n",
    "fig.set_size_inches(10, 4)\n"
   ]
  },
  {
   "cell_type": "code",
   "execution_count": null,
   "metadata": {},
   "outputs": [],
   "source": [
    "#this cell defines what system you want to simulate and how many trials to run.\n",
    "#generally no need to do lots of trials while prototyping protocols\n",
    "\n",
    "N = 5_000\n",
    "system= comp\n",
    "eq_sys = comp\n",
    "\n",
    "system.mass= m_prime\n",
    "eq_sys.mass = m_prime\n",
    "\n",
    "system.potential.scale=1\n",
    "\n",
    "#initialize the state in an EQ distribution.\n",
    "initial_state = eq_sys.eq_state(N, t=0, beta=1/(kT_prime), resolution=1_000, manual_domain=[[-4,-4],[4,0]], axes=[1,2])"
   ]
  },
  {
   "cell_type": "markdown",
   "metadata": {},
   "source": [
    "# Next few cells are visualization checks that your system is set up how you want"
   ]
  },
  {
   "cell_type": "code",
   "execution_count": null,
   "metadata": {},
   "outputs": [],
   "source": [
    "#this cell checks for closeness to equilibrium by checking the generalized equipartition theorem\n",
    "#the true equilibrium dist will yield zeros for all elements, but only when when n -> infinity\n",
    "#this can take a lot of trials to converge\n",
    "\n",
    "I = np.zeros((4,4))\n",
    "for i in range(4):\n",
    "    I[i,i] = 1\n",
    "\n",
    "ept_test = system.check_local_eq(initial_state, 0)/kT_prime - I \n",
    "ept_mean, ept_std = np.mean(ept_test, axis=0), np.std(ept_test, axis=0)\n",
    "\n",
    "element_labels = [ f'${i+1},{j+1}$' for i in range(4) for j in range(4)]\n",
    "\n",
    "fig, ax = plt.subplots(figsize=(14,4))\n",
    "\n",
    "\n",
    "ax.errorbar(element_labels, ept_mean.ravel(), yerr = 3*ept_std.ravel()/np.sqrt(N), fmt='o', capsize=3, capthick=2, elinewidth=2, color='black')\n",
    "ax.axhline(linestyle='--')\n",
    "ax.set_xlabel('$i,j$')\n",
    "fig.suptitle('Generalized Equipartition Theorem: '+'$\\\\langle x_i \\\\partial_{x_j} H\\\\rangle - I \\\\text{ with } x_1, x_2, x_3, x_4 = \\\\varphi, \\\\varphi_{dc}, \\\\dot{\\\\varphi}, \\\\dot{\\\\varphi}_{dc}$')\n",
    "\n"
   ]
  },
  {
   "cell_type": "code",
   "execution_count": null,
   "metadata": {},
   "outputs": [],
   "source": [
    "#this cell is for checking that the initial state is what you want qualitatively, shows phase space histograms\n",
    "nbins= 30\n",
    "\n",
    "fig, ax = plt.subplots(2,2, figsize=(10,10))\n",
    "\n",
    "for ij in [[0, 0], [0, 1], [1, 0], [1, 1]]:\n",
    "    ax[*ij].hist(initial_state[:,*ij], bins=nbins, density=True)\n",
    "\n",
    "titles = ['$\\\\phi$', '$\\\\dot{\\\\phi}$', '$\\\\phi_{dc}$', '$\\\\dot{\\\\phi}_{dc}$']\n",
    "for i, axis in enumerate(ax.ravel()):\n",
    "    axis.set_title(titles[i])"
   ]
  },
  {
   "cell_type": "code",
   "execution_count": null,
   "metadata": {},
   "outputs": [],
   "source": [
    "#gives a snapshot of the potential at some time in some domain\n",
    "fig, ax = plt.subplots(1,2, figsize=(12,4))\n",
    "t_snapshot = 0\n",
    "fig, _, out = system.show_potential(t_snapshot, manual_domain=[[-4,-4],[4,-1]], figax=[fig,ax[0]], surface=False, show=False)\n",
    "\n",
    "t_snapshot = system.protocol.t_f-.3\n",
    "fig, ax[1], out = system.show_potential(system.protocol.t_f-.3, manual_domain=[[-4,-4],[4,-1]], figax=[fig,ax[1]], surface=False, show=False)"
   ]
  },
  {
   "cell_type": "markdown",
   "metadata": {},
   "source": [
    "# Now we set up the simulation"
   ]
  },
  {
   "cell_type": "code",
   "execution_count": null,
   "metadata": {},
   "outputs": [],
   "source": [
    "# this sets up our simulation to do underdamped langevin dynamics.\n",
    "# if you want to change the temperature or damping by some amount, you can change the scale factors in this cell\n",
    "# probably dont want to change anythign else in here though\n",
    "\n",
    "#NOTE: changing the temperature here will not change the temperature used to generate the EQ distribution,\n",
    "#NOTE: time is scaled in units of sqrt(LC)\n",
    "\n",
    "gamma = (lambda_prime/m_prime) * np.sqrt(L*C) / (R*C) \n",
    "theta = 1/m_prime\n",
    "eta = (L/(R**2 * C))**(1/4) * np.sqrt(kT_prime*lambda_prime) / m_prime        \n",
    " \n",
    "\n",
    "damping_scale = 1\n",
    "temp_scale = 1\n",
    "\n",
    "gamma = np.multiply(gamma, damping_scale)\n",
    "eta = np.multiply(eta, np.sqrt(damping_scale*temp_scale))\n",
    "\n",
    "dynamic = langevin_underdamped.LangevinUnderdamped(theta, gamma, eta, system.get_external_force)\n",
    "dynamic.mass = system.mass\n",
    "\n",
    "integrator = rkdeterm_eulerstoch.RKDetermEulerStoch(dynamic)"
   ]
  },
  {
   "cell_type": "code",
   "execution_count": null,
   "metadata": {},
   "outputs": [],
   "source": [
    "#dont change this cell unless you take a look at how the procedures work, this should be fine for most use cases\n",
    "\n",
    "is_bools = kt.separate_by_state(initial_state[...,0,0])\n",
    "\n",
    "procedures = [\n",
    "              sp.ReturnFinalState(),\n",
    "              sp.MeasureAllState(trial_request=slice(0, 1000), step_request=np.s_[::4]),\n",
    "              rp.MeasureAllValue(rp.get_dW, 'all_W'),\n",
    "              rp.MeasureFinalValue(rp.get_dW, 'final_W'),\n",
    "              sp.MeasureMeanValue(rp.get_kinetic, output_name='kinetic' ),\n",
    "              sp.MeasureMeanValue(rp.get_potential, output_name='potential'),\n",
    "              sp.MeasureMeanValue(rp.get_EPT, output_name='equipartition'),\n",
    "              sp.MeasureMeanValue(rp.get_current_state, output_name = 'zero_means', trial_request=is_bools['0']),\n",
    "              sp.MeasureMeanValue(rp.get_current_state, output_name = 'one_means', trial_request=is_bools['1']),\n",
    "              tp.CountJumps(state_slice=np.s_[...,0,0])\n",
    "             ]"
   ]
  },
  {
   "cell_type": "code",
   "execution_count": null,
   "metadata": {},
   "outputs": [],
   "source": [
    "# here is where you choose the number of steps to simulate and how long to run the sim for.\n",
    "# note that if your time is longer than the protocol time, the potential will just sit at its final value.\n",
    "\n",
    "total_time = (system.protocol.t_f-system.protocol.t_i) + 125\n",
    "dt = 1E-2\n",
    "\n",
    "nsteps = int(total_time/dt)\n",
    "nsteps_quick = int(nsteps/10)\n",
    "sim = simulation.Simulation(integrator.update_state, procedures, nsteps, dt,\n",
    "                            initial_state)\n",
    "\n",
    "sim.system = system"
   ]
  },
  {
   "cell_type": "markdown",
   "metadata": {},
   "source": [
    "# Run the actual sim"
   ]
  },
  {
   "cell_type": "code",
   "execution_count": null,
   "metadata": {},
   "outputs": [],
   "source": [
    "%%time\n",
    "sim.output = sim.run(verbose=True)"
   ]
  },
  {
   "cell_type": "code",
   "execution_count": null,
   "metadata": {},
   "outputs": [],
   "source": [
    "# Here we assign sim output to some variables for easier access later\n",
    "# this is a bit of a mess, but it works for now\n",
    "\n",
    "# this saves trajectory data for the first 1,000 samples. It only saves every 4 time steps to save on memory. this is set in procedures\n",
    "all_state = sim.output.all_state['states']\n",
    "# work over time, all trials, all time steps\n",
    "all_W = sim.output.all_W\n",
    "# net work at the end per trial\n",
    "final_W = sim.output.final_W\n",
    "# the full final state\n",
    "final_state = sim.output.final_state\n",
    "# equipartition checks over time, ['values'] is the mean, ['std_error'] is the std error\n",
    "all_EPT = sim.output.equipartition['values']\n",
    "# average KE, PE of all particles over time\n",
    "all_KE = sim.output.kinetic['values']\n",
    "all_PE = sim.output.potential['values']\n",
    "# arrays to plot time on the x axis\n",
    "times = np.linspace(0, total_time, nsteps+1)\n",
    "# coarse grained version for plotting all_state\n",
    "all_times = np.linspace(0, total_time, all_state.shape[1])\n",
    "# info state conditioned averages for each phase space coordinate\n",
    "z_states = sim.output.zero_means['values']\n",
    "z_err = np.sqrt(N)*sim.output.zero_means['std_error']\n",
    "o_states = sim.output.one_means['values']\n",
    "o_err = np.sqrt(N)*sim.output.one_means['std_error']\n",
    "\n",
    "# this measures every time the sign of phi changes form + to - \n",
    "jumps = sim.output.trajectories\n"
   ]
  },
  {
   "cell_type": "markdown",
   "metadata": {},
   "source": [
    "### After running the sim, there are plenty of analysis tools"
   ]
  },
  {
   "cell_type": "code",
   "execution_count": null,
   "metadata": {},
   "outputs": [],
   "source": [
    "\n",
    "fig, ax = plt.subplots()\n",
    "all_ke  = system.get_kinetic_energy(all_state) / kT_prime\n",
    "\n",
    "ax.plot(all_times, all_ke.T, alpha=.005);\n",
    "ax.plot(times, all_KE/kT_prime, zorder=10000, linewidth=1, color='k', label='ensemble average' );\n",
    "ax.axhline(1, linestyle='--', color='k', alpha=.2, label='kT')\n",
    "fig.legend()\n",
    "fig.suptitle('total Kinetic Energy')\n"
   ]
  },
  {
   "cell_type": "code",
   "execution_count": null,
   "metadata": {},
   "outputs": [],
   "source": [
    "fig, ax = plt.subplots(1,2, figsize=(15,5))\n",
    "\n",
    "\n",
    "ax[0].set_title('Work (kT) vs time')\n",
    "all_W_kT = all_W/kT_prime\n",
    "ax[0].plot(times, all_W_kT.T, alpha=.1);\n",
    "ax[0].plot(times, all_W_kT.mean(axis=0), linewidth=2, color='k', label='ensemble average', alpha=1 );\n",
    "\n",
    "ax[0].legend()\n",
    "\n",
    "#this will show you a histogram of the net work, with the mean and +- sigma marked\n",
    "#note the energy scale is in k_B T\n",
    "ax[1].set_title('Final Work (kT) histogram')\n",
    "final_W_kT = final_W/kT_prime\n",
    "ax[1].hist(final_W_kT, bins=30)\n",
    "m=(final_W_kT).mean()\n",
    "s=(final_W_kT).std()\n",
    "ax[1].axvline(m, color='k', label='mean')\n",
    "ax[1].axvline(m-3*s, color='k', label=' - 3 sigma')\n",
    "ax[1].axvline(m+3*s, color='k', label=' + 3 sigma')\n",
    "ax[1].legend()"
   ]
  },
  {
   "cell_type": "code",
   "execution_count": null,
   "metadata": {},
   "outputs": [],
   "source": [
    "fig, ax = plt.subplots(2,2)\n",
    "\n",
    "coarse = 25\n",
    "for i in range(2):\n",
    "    for j in range(2):\n",
    "        \n",
    "        for state, error in zip([z_states, o_states],[z_err, o_err]):\n",
    "            markers, caps, bars = ax[i,j].errorbar(times[::coarse], state[::coarse,i,j], yerr=error[::coarse,i,j], alpha=.6);\n",
    "            [bar.set_alpha(.2) for bar in bars]\n",
    "            for lineval in [ state[0,i,j] + item*error[0,i,j] for item in[-1,1]]:\n",
    "                ax[i,j].axhline(lineval, linestyle='--', color='k', alpha=.2)\n",
    "\n",
    "\n",
    "ax[0,0].set_title('$\\\\phi$')\n",
    "ax[0,1].set_title('$\\\\dot{\\\\phi}$')\n",
    "ax[1,0].set_title('$\\\\phi_{dc}$')\n",
    "ax[1,1].set_title('$\\\\dot{\\\\phi}_{dc}$')\n",
    "\n",
    "fig.suptitle('Info State Average and Std Deviation')\n"
   ]
  },
  {
   "cell_type": "code",
   "execution_count": null,
   "metadata": {},
   "outputs": [],
   "source": [
    "\n",
    "for item in rc_dict:\n",
    "    plt.rcParams[item] = rc_dict[item]\n",
    "\n",
    "# dont need ot look at all of them, this will show every 10th\n",
    "\n",
    "\n",
    "fig, ax = plt.subplots(2,2, sharex=True)\n",
    "\n",
    "opacity_values = [.5, .01]\n",
    "trial_indices = np.s_[::50], np.s_[::1]\n",
    "\n",
    "for i, [opacity, trials] in enumerate(zip(opacity_values, trial_indices)):\n",
    "    for j, xy in enumerate([[0,0],[1,0]]):\n",
    "        ax[i,j].plot(all_times, all_state[trials,:,*xy].T, alpha=opacity);\n",
    "\n",
    "fig.suptitle('all_state trajectories with t in units of $\\\\sqrt{LC}$')\n",
    "\n",
    "ax[0,0].set_ylabel('$\\\\varphi$')\n",
    "ax[0,1].set_ylabel('$\\\\varphi_{dc}$')\n",
    "ax[1,0].set_ylabel('$\\\\varphi$')\n",
    "ax[1,1].set_ylabel('$\\\\varphi_{dc}$')\n",
    "\n",
    "tick_params = {'which':'major', 'labelsize':12, 'size':2, 'direction':'inout', 'width':.6}\n",
    "for item in ax.ravel():\n",
    "    item.axvline(system.protocol.t_f,c='k', linestyle='dashed')\n",
    "    item.axvline(1,c='k', linestyle='dashed')\n",
    "    #item.axvline(5.53,c='k', linestyle='dashed')\n",
    "    item.grid(True, which='both')\n",
    "    item.tick_params(**tick_params)\n",
    "\n",
    "\n",
    "    \n",
    "\n"
   ]
  },
  {
   "cell_type": "code",
   "execution_count": null,
   "metadata": {},
   "outputs": [],
   "source": [
    "#fig.savefig('all_state_alpha.pdf')"
   ]
  },
  {
   "cell_type": "code",
   "execution_count": null,
   "metadata": {},
   "outputs": [],
   "source": [
    "from FQ_sympy_functions import fidelity\n",
    "fidelity_dictionary = fidelity(jumps)\n",
    "print(fidelity_dictionary)"
   ]
  },
  {
   "cell_type": "markdown",
   "metadata": {},
   "source": [
    "# Below This are more detailed Diagnostic Tools for the protocol and Simulation dt"
   ]
  },
  {
   "cell_type": "code",
   "execution_count": null,
   "metadata": {},
   "outputs": [],
   "source": [
    "from bit_flip_sweep import get_tau_candidate\n",
    "\n",
    "# this will take a look at this sim and suggest candidate end times for the protocol\n",
    "# it makes a guess of a better time based only on the phi coordiante\n",
    "# but its guess is usually wrong because phi_dc matters a lot\n",
    "tau_candidates, t_crit = get_tau_candidate(sim, burn = int( (1+system.protocol.times[0,1]) / sim.dt) )"
   ]
  },
  {
   "cell_type": "code",
   "execution_count": null,
   "metadata": {},
   "outputs": [],
   "source": [
    "# this cell shows a closeup of the flip part, and all the phase space coordinates\n",
    "# can try to use it to see if extending, shortening will give better results\n",
    "fig, ax = plt.subplots(2, figsize=(20,10))\n",
    "\n",
    "#change plot window\n",
    "start_idx, end_idx = [ int(item/sim.dt) for item in system.protocol.times[1] ]\n",
    "duration_idx = int( (end_idx-start_idx)/2)\n",
    "\n",
    "indices=np.s_[start_idx-duration_idx:end_idx+duration_idx]\n",
    "\n",
    "\n",
    "\n",
    "\n",
    "\n",
    "for i in range(2):\n",
    "    for j in range(2):\n",
    "        \n",
    "        for state, error in zip([z_states, o_states],[z_err, o_err]):\n",
    "            markers, caps, bars = ax[i].errorbar(times[indices], state[indices,i,j], yerr=error[indices,i,j], alpha=1, );\n",
    "            [bar.set_alpha(.2) for bar in bars]\n",
    "\n",
    "\n",
    "ax[0].set_title('$\\\\phi$')\n",
    "\n",
    "ax[1].set_title('$\\\\phi_{dc}$')\n",
    "\n",
    "\n",
    "for item in ax:\n",
    "    item.grid(True, which='both')\n",
    "    item.axvline(system.protocol.t_f, linewidth=5, color='r',alpha=.4, label='end of protocol')\n",
    "    item.axvline(tau_candidates[0], color='k', label='range_start')\n",
    "    item.axvline(tau_candidates[1], color='k', label='range_end',)\n",
    "    item.axvline(t_crit, linewidth=5, color='g', alpha=.4, label='guessed better time')\n",
    "\n",
    "ax[1].legend()\n",
    "fig.suptitle('Ensemble Average of the System Phase Space, conditioned on the initial logical state')"
   ]
  },
  {
   "cell_type": "code",
   "execution_count": null,
   "metadata": {},
   "outputs": [],
   "source": [
    "# looking at energy over time\n",
    "times = np.linspace(0, total_time, nsteps+1)\n",
    "\n",
    "fig, ax = plt.subplots(figsize=(15,5));\n",
    "\n",
    "#potential energy is tricky, because it only makes sense up to a constant-- so i have basically scaled it to look right.\n",
    "ax.plot(times, (all_PE-all_PE[0])/kT_prime+1, alpha=.8, label='potential');\n",
    "\n",
    "ax.plot(times, all_KE/kT_prime, alpha=.8, label='kinetic');\n",
    "\n",
    "\n",
    "ax.legend()\n",
    "ax.set_title('Avg Energy (k_B T) vs time');\n",
    "plt.grid(True, which='both')\n",
    "plt.rc('grid', linestyle=\"-\", color='black')\n",
    "\n",
    "ax.set_ylim(0,3)"
   ]
  },
  {
   "cell_type": "code",
   "execution_count": null,
   "metadata": {},
   "outputs": [],
   "source": [
    "fig, ax = plt.subplots()\n",
    "total_E = ( (all_PE-all_PE[0]) + all_KE)/kT_prime +1\n",
    "ax.plot(times,total_E)\n",
    "ax.axhline(2, linestyle='dotted')\n",
    "ax.set_title('Total Energy (k_B T)');"
   ]
  },
  {
   "cell_type": "code",
   "execution_count": null,
   "metadata": {},
   "outputs": [],
   "source": [
    "\n",
    "# plot equipartition check, this is mostly for checking if the distribution is equilibrium\n",
    "\n",
    "# dont think of these as energies, moreso it measures correlation\n",
    "EPT = np.abs(all_EPT/kT_prime)\n",
    "\n",
    "# we convolve over a time window to smooth out the data\n",
    "import scipy.signal\n",
    "window_size = int(2.5/dt)\n",
    "kernel_1d = np.ones(window_size) / float(window_size)\n",
    "kernel_3d = kernel_1d.reshape(-1, 1, 1) \n",
    "EPT = scipy.signal.convolve(EPT, kernel_3d, mode='valid', method='auto')\n",
    "\n",
    "\n",
    "fig, ax = plt.subplots(1,2, figsize=(15,5));\n",
    "\n",
    "for i in range(4):\n",
    "    for j in range(4):\n",
    "        if i==j:\n",
    "            ax[0].plot(EPT[:,i,j]-1, alpha=.8);\n",
    "        else:\n",
    "            ax[1].plot(EPT[:,i,j], alpha=.8);\n",
    " \n",
    "\n",
    "ax[0].set_title(' \\'Equipartition Elements\\' (k_B T)  (diagonal elements)');\n",
    "ax[1].set_title(' \\'Equipartition Elements\\' (k_B T)  (off-diagonal elements)');\n",
    "\n",
    "ax[0].legend(['phi', 'phi_dc','v_phi','v_phi_dc'])\n",
    "\n",
    "#manually set window here\n",
    "ax[0].set_ylim(-.5,6)\n",
    "ax[1].set_ylim(-.5,6)\n"
   ]
  }
 ],
 "metadata": {
  "kernelspec": {
   "display_name": "general",
   "language": "python",
   "name": "python3"
  },
  "language_info": {
   "codemirror_mode": {
    "name": "ipython",
    "version": 3
   },
   "file_extension": ".py",
   "mimetype": "text/x-python",
   "name": "python",
   "nbconvert_exporter": "python",
   "pygments_lexer": "ipython3",
   "version": "3.12.2"
  }
 },
 "nbformat": 4,
 "nbformat_minor": 4
}
